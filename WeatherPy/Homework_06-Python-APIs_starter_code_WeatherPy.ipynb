{
 "cells": [
  {
   "cell_type": "markdown",
   "metadata": {},
   "source": [
    "# WeatherPy\n",
    "----\n",
    "\n",
    "#### Note\n",
    "* Instructions have been included for each segment. You do not have to follow them exactly, but they are included to help you think through the steps."
   ]
  },
  {
   "cell_type": "code",
   "execution_count": 1,
   "metadata": {
    "scrolled": true
   },
   "outputs": [],
   "source": [
    "# Dependencies and Setup\n",
    "import matplotlib.pyplot as plt\n",
    "import pandas as pd\n",
    "import numpy as np\n",
    "import requests\n",
    "import time\n",
    "import json\n",
    "import scipy.stats as st\n",
    "from scipy.stats import linregress\n",
    "import json\n",
    "\n",
    "\n",
    "# Import API key\n",
    "from api_keys import weather_api_key\n",
    "\n",
    "# Incorporated citipy to determine city based on latitude and longitude\n",
    "from citipy import citipy\n",
    "\n",
    "# Output File (CSV)\n",
    "output_data_file = 'output_data/cities.csv'\n",
    "\n",
    "# Range of latitudes and longitudes\n",
    "lat_range = (-90, 90)\n",
    "lng_range = (-180, 180)"
   ]
  },
  {
   "cell_type": "markdown",
   "metadata": {},
   "source": [
    "## Generate Cities List"
   ]
  },
  {
   "cell_type": "code",
   "execution_count": 2,
   "metadata": {},
   "outputs": [
    {
     "data": {
      "text/plain": [
       "622"
      ]
     },
     "execution_count": 2,
     "metadata": {},
     "output_type": "execute_result"
    }
   ],
   "source": [
    "# List for holding lat_lngs and cities\n",
    "lat_lngs = []\n",
    "cities = []\n",
    "\n",
    "# Create a set of random lat and lng combinations\n",
    "lats = np.random.uniform(lat_range[0], lat_range[1], size=1500)\n",
    "lngs = np.random.uniform(lng_range[0], lng_range[1], size=1500)\n",
    "lat_lngs = zip(lats, lngs)\n",
    "\n",
    "# Identify nearest city for each lat, lng combination\n",
    "for lat_lng in lat_lngs:\n",
    "    city = citipy.nearest_city(lat_lng[0], lat_lng[1]).city_name\n",
    "    \n",
    "    # If the city is unique, then add it to a our cities list\n",
    "    if city not in cities:\n",
    "        cities.append(city)\n",
    "\n",
    "# Print the city count to confirm sufficient count\n",
    "len(cities)"
   ]
  },
  {
   "cell_type": "markdown",
   "metadata": {},
   "source": [
    "### Perform API Calls\n",
    "* Perform a weather check on each city using a series of successive API calls.\n",
    "* Include a print log of each city as it'sbeing processed (with the city number and city name).\n"
   ]
  },
  {
   "cell_type": "code",
   "execution_count": 4,
   "metadata": {},
   "outputs": [
    {
     "name": "stdout",
     "output_type": "stream",
     "text": [
      "Beginning Data Retrieval \n",
      "-----------------------------\n",
      "Processing Record 1 of Set 1 : belaya gora\n",
      "Processing Record 2 of Set 1 : cherskiy\n",
      "Processing Record 3 of Set 1 : busselton\n",
      "Processing Record 4 of Set 1 : albany\n",
      "Processing Record 5 of Set 1 : nikolskoye\n",
      "Processing Record 6 of Set 1 : new norfolk\n",
      "Processing Record 7 of Set 1 : kapaa\n",
      "Processing Record 8 of Set 1 : naze\n",
      "Processing Record 9 of Set 1 : cape town\n",
      "Processing Record 10 of Set 1 : gunjur\n",
      "Processing Record 11 of Set 1 : ribeira grande\n",
      "Processing Record 12 of Set 1 : mar del plata\n",
      "Processing Record 13 of Set 1 : ushuaia\n",
      "Processing Record 14 of Set 1 : souillac\n",
      "Processing Record 15 of Set 1 : bredasdorp\n",
      "Processing Record 16 of Set 1 : barrow\n",
      "City not found. Skipping...\n",
      "Processing Record 17 of Set 1 : hobart\n",
      "Processing Record 18 of Set 1 : honningsvag\n",
      "City not found. Skipping...\n",
      "Processing Record 19 of Set 1 : longyearbyen\n",
      "Processing Record 20 of Set 1 : mataura\n",
      "Processing Record 21 of Set 1 : kota kinabalu\n",
      "Processing Record 22 of Set 1 : riyadh\n",
      "Processing Record 23 of Set 1 : sibut\n",
      "Processing Record 24 of Set 1 : bambous virieux\n",
      "Processing Record 25 of Set 1 : jiexiu\n",
      "Processing Record 26 of Set 1 : qaanaaq\n",
      "Processing Record 27 of Set 1 : san cristobal\n",
      "Processing Record 28 of Set 1 : kieta\n",
      "Processing Record 29 of Set 1 : san quintin\n",
      "Processing Record 30 of Set 1 : totton\n",
      "Processing Record 31 of Set 1 : upernavik\n",
      "Processing Record 32 of Set 1 : shimoda\n",
      "Processing Record 33 of Set 1 : songea\n",
      "City not found. Skipping...\n",
      "Processing Record 34 of Set 1 : pucallpa\n",
      "Processing Record 35 of Set 1 : hithadhoo\n",
      "Processing Record 36 of Set 1 : rikitea\n",
      "Processing Record 37 of Set 1 : chokurdakh\n",
      "Processing Record 38 of Set 1 : vila franca do campo\n",
      "Processing Record 39 of Set 1 : frolovo\n",
      "Processing Record 40 of Set 1 : inuvik\n",
      "City not found. Skipping...\n",
      "Processing Record 41 of Set 1 : bengkulu\n",
      "Processing Record 42 of Set 1 : atuona\n",
      "City not found. Skipping...\n",
      "Processing Record 43 of Set 1 : sola\n",
      "Processing Record 44 of Set 1 : dhidhdhoo\n",
      "Processing Record 45 of Set 1 : hualmay\n",
      "City not found. Skipping...\n",
      "Processing Record 46 of Set 1 : bandarbeyla\n",
      "Processing Record 47 of Set 1 : hermanus\n",
      "City not found. Skipping...\n",
      "Processing Record 48 of Set 1 : hilo\n",
      "Processing Record 49 of Set 1 : port alfred\n",
      "Processing Record 50 of Set 1 : ancud\n",
      "City not found. Skipping...\n",
      "Processing Record 0 of Set 2 : punta arenas\n",
      "Processing Record 1 of Set 2 : doha\n",
      "City not found. Skipping...\n",
      "Processing Record 2 of Set 2 : anadyr\n",
      "Processing Record 3 of Set 2 : zagora\n",
      "Processing Record 4 of Set 2 : puerto ayora\n",
      "Processing Record 5 of Set 2 : nome\n",
      "Processing Record 6 of Set 2 : yellowknife\n",
      "Processing Record 7 of Set 2 : dikson\n",
      "Processing Record 8 of Set 2 : oranjemund\n",
      "Processing Record 9 of Set 2 : puerto madryn\n",
      "Processing Record 10 of Set 2 : shakawe\n",
      "Processing Record 11 of Set 2 : hami\n",
      "Processing Record 12 of Set 2 : cap malheureux\n",
      "Processing Record 13 of Set 2 : ribeira brava\n",
      "Processing Record 14 of Set 2 : sinnamary\n",
      "Processing Record 15 of Set 2 : avarua\n",
      "Processing Record 16 of Set 2 : imbituba\n",
      "Processing Record 17 of Set 2 : hamilton\n",
      "Processing Record 18 of Set 2 : kaukauna\n",
      "Processing Record 19 of Set 2 : labuhan\n",
      "Processing Record 20 of Set 2 : katsuura\n",
      "Processing Record 21 of Set 2 : kodiak\n",
      "Processing Record 22 of Set 2 : narsaq\n",
      "Processing Record 23 of Set 2 : nanortalik\n",
      "Processing Record 24 of Set 2 : eureka\n",
      "Processing Record 25 of Set 2 : neiafu\n",
      "Processing Record 26 of Set 2 : poum\n",
      "City not found. Skipping...\n",
      "Processing Record 27 of Set 2 : nantucket\n",
      "Processing Record 28 of Set 2 : gigmoto\n",
      "Processing Record 29 of Set 2 : amboise\n",
      "Processing Record 30 of Set 2 : surt\n",
      "Processing Record 31 of Set 2 : dongsheng\n",
      "Processing Record 32 of Set 2 : saint-philippe\n",
      "Processing Record 33 of Set 2 : vaini\n",
      "Processing Record 34 of Set 2 : muswellbrook\n",
      "City not found. Skipping...\n",
      "Processing Record 35 of Set 2 : dingle\n",
      "Processing Record 36 of Set 2 : lata\n",
      "Processing Record 37 of Set 2 : macheng\n",
      "Processing Record 38 of Set 2 : bairiki\n",
      "Processing Record 39 of Set 2 : east london\n",
      "City not found. Skipping...\n",
      "City not found. Skipping...\n",
      "Processing Record 40 of Set 2 : shache\n",
      "Processing Record 41 of Set 2 : norman wells\n",
      "Processing Record 42 of Set 2 : baykit\n",
      "Processing Record 43 of Set 2 : agadir\n",
      "Processing Record 44 of Set 2 : shenjiamen\n",
      "Processing Record 45 of Set 2 : ponta do sol\n",
      "City not found. Skipping...\n",
      "Processing Record 46 of Set 2 : adeje\n",
      "Processing Record 47 of Set 2 : vila velha\n",
      "Processing Record 48 of Set 2 : fort nelson\n",
      "Processing Record 49 of Set 2 : rio gallegos\n",
      "Processing Record 50 of Set 2 : srednekolymsk\n",
      "Processing Record 0 of Set 3 : kununurra\n",
      "Processing Record 1 of Set 3 : timmins\n",
      "Processing Record 2 of Set 3 : saskylakh\n",
      "Processing Record 3 of Set 3 : goya\n",
      "Processing Record 4 of Set 3 : henties bay\n",
      "Processing Record 5 of Set 3 : ahipara\n",
      "Processing Record 6 of Set 3 : airai\n",
      "Processing Record 7 of Set 3 : sorland\n",
      "Processing Record 8 of Set 3 : la ronge\n",
      "Processing Record 9 of Set 3 : bethel\n",
      "Processing Record 10 of Set 3 : mattru\n",
      "Processing Record 11 of Set 3 : sao joao da barra\n",
      "Processing Record 12 of Set 3 : caldwell\n",
      "Processing Record 13 of Set 3 : olafsvik\n",
      "City not found. Skipping...\n",
      "Processing Record 14 of Set 3 : fortuna\n",
      "Processing Record 15 of Set 3 : morant bay\n",
      "Processing Record 16 of Set 3 : college\n",
      "Processing Record 17 of Set 3 : beyneu\n",
      "Processing Record 18 of Set 3 : faanui\n",
      "Processing Record 19 of Set 3 : anjiang\n",
      "Processing Record 20 of Set 3 : iqaluit\n",
      "Processing Record 21 of Set 3 : muros\n",
      "Processing Record 22 of Set 3 : solnechnyy\n",
      "Processing Record 23 of Set 3 : uhlove\n",
      "Processing Record 24 of Set 3 : hasaki\n",
      "Processing Record 25 of Set 3 : ibiruba\n",
      "Processing Record 26 of Set 3 : cascais\n",
      "Processing Record 27 of Set 3 : kaitangata\n",
      "Processing Record 28 of Set 3 : dhandhuka\n",
      "Processing Record 29 of Set 3 : jamestown\n",
      "Processing Record 30 of Set 3 : tucuma\n",
      "Processing Record 31 of Set 3 : sayyan\n",
      "Processing Record 32 of Set 3 : chuy\n",
      "Processing Record 33 of Set 3 : safaga\n",
      "Processing Record 34 of Set 3 : rakiv lis\n",
      "Processing Record 35 of Set 3 : diamantino\n",
      "Processing Record 36 of Set 3 : tuktoyaktuk\n",
      "Processing Record 37 of Set 3 : sao filipe\n",
      "Processing Record 38 of Set 3 : provideniya\n",
      "Processing Record 39 of Set 3 : chalala\n",
      "City not found. Skipping...\n",
      "Processing Record 40 of Set 3 : clyde river\n",
      "Processing Record 41 of Set 3 : seoul\n",
      "Processing Record 42 of Set 3 : svetlyy\n",
      "Processing Record 43 of Set 3 : mount isa\n",
      "Processing Record 44 of Set 3 : novotroitskaya\n",
      "Processing Record 45 of Set 3 : hovd\n",
      "Processing Record 46 of Set 3 : butaritari\n",
      "Processing Record 47 of Set 3 : ludvika\n",
      "Processing Record 48 of Set 3 : manokwari\n",
      "Processing Record 49 of Set 3 : eyl\n",
      "Processing Record 50 of Set 3 : aklavik\n",
      "Processing Record 0 of Set 4 : westport\n",
      "Processing Record 1 of Set 4 : sinnar\n",
      "Processing Record 2 of Set 4 : harwich\n",
      "Processing Record 3 of Set 4 : birao\n",
      "Processing Record 4 of Set 4 : lukiv\n",
      "Processing Record 5 of Set 4 : kavieng\n",
      "Processing Record 6 of Set 4 : saint-augustin\n",
      "Processing Record 7 of Set 4 : huaicheng\n",
      "Processing Record 8 of Set 4 : sire\n",
      "Processing Record 9 of Set 4 : tasiilaq\n",
      "Processing Record 10 of Set 4 : ruidoso\n",
      "Processing Record 11 of Set 4 : palauig\n",
      "Processing Record 12 of Set 4 : tiksi\n",
      "Processing Record 13 of Set 4 : opunake\n",
      "City not found. Skipping...\n",
      "Processing Record 14 of Set 4 : lorengau\n",
      "Processing Record 15 of Set 4 : tahe\n",
      "Processing Record 16 of Set 4 : marienburg\n",
      "Processing Record 17 of Set 4 : pringsewu\n",
      "Processing Record 18 of Set 4 : kirkwall\n",
      "Processing Record 19 of Set 4 : alekseyevskoye\n",
      "Processing Record 20 of Set 4 : thompson\n",
      "Processing Record 21 of Set 4 : bathsheba\n",
      "Processing Record 22 of Set 4 : asmar\n",
      "Processing Record 23 of Set 4 : geraldton\n",
      "City not found. Skipping...\n",
      "Processing Record 24 of Set 4 : roma\n",
      "Processing Record 25 of Set 4 : kruisfontein\n",
      "Processing Record 26 of Set 4 : bontang\n",
      "Processing Record 27 of Set 4 : coihaique\n",
      "Processing Record 28 of Set 4 : port elizabeth\n",
      "Processing Record 29 of Set 4 : saint george\n",
      "Processing Record 30 of Set 4 : tateyama\n",
      "Processing Record 31 of Set 4 : cidreira\n",
      "Processing Record 32 of Set 4 : caravelas\n",
      "Processing Record 33 of Set 4 : guerrero negro\n",
      "Processing Record 34 of Set 4 : grindavik\n"
     ]
    },
    {
     "name": "stdout",
     "output_type": "stream",
     "text": [
      "Processing Record 35 of Set 4 : beringovskiy\n",
      "City not found. Skipping...\n",
      "Processing Record 36 of Set 4 : virginia beach\n",
      "Processing Record 37 of Set 4 : banda aceh\n",
      "City not found. Skipping...\n",
      "Processing Record 38 of Set 4 : salalah\n",
      "Processing Record 39 of Set 4 : husavik\n",
      "Processing Record 40 of Set 4 : zhuzhou\n",
      "Processing Record 41 of Set 4 : omboue\n",
      "Processing Record 42 of Set 4 : georgetown\n",
      "Processing Record 43 of Set 4 : tutoia\n",
      "Processing Record 44 of Set 4 : ust-tsilma\n",
      "Processing Record 45 of Set 4 : labytnangi\n",
      "Processing Record 46 of Set 4 : touros\n",
      "Processing Record 47 of Set 4 : tezu\n",
      "City not found. Skipping...\n",
      "City not found. Skipping...\n",
      "Processing Record 48 of Set 4 : washington\n",
      "Processing Record 49 of Set 4 : teya\n",
      "Processing Record 50 of Set 4 : hoquiam\n",
      "Processing Record 0 of Set 5 : yenagoa\n",
      "Processing Record 1 of Set 5 : weleri\n",
      "City not found. Skipping...\n",
      "Processing Record 2 of Set 5 : constitucion\n",
      "Processing Record 3 of Set 5 : lima\n",
      "Processing Record 4 of Set 5 : ponta delgada\n",
      "Processing Record 5 of Set 5 : leh\n",
      "City not found. Skipping...\n",
      "Processing Record 6 of Set 5 : tuatapere\n",
      "Processing Record 7 of Set 5 : monduli\n",
      "City not found. Skipping...\n",
      "Processing Record 8 of Set 5 : buritizeiro\n",
      "Processing Record 9 of Set 5 : qiongshan\n",
      "Processing Record 10 of Set 5 : taoudenni\n",
      "Processing Record 11 of Set 5 : pakxan\n",
      "Processing Record 12 of Set 5 : bluff\n",
      "Processing Record 13 of Set 5 : lavrentiya\n",
      "Processing Record 14 of Set 5 : pisco\n",
      "Processing Record 15 of Set 5 : calafell\n",
      "Processing Record 16 of Set 5 : luderitz\n",
      "Processing Record 17 of Set 5 : lagunas\n",
      "Processing Record 18 of Set 5 : stara vyzhivka\n",
      "Processing Record 19 of Set 5 : saint anthony\n",
      "Processing Record 20 of Set 5 : kakinada\n",
      "Processing Record 21 of Set 5 : victoria\n",
      "Processing Record 22 of Set 5 : marsh harbour\n",
      "Processing Record 23 of Set 5 : camp verde\n",
      "City not found. Skipping...\n",
      "Processing Record 24 of Set 5 : laguna\n",
      "Processing Record 25 of Set 5 : brae\n",
      "Processing Record 26 of Set 5 : umea\n",
      "Processing Record 27 of Set 5 : petropavlovsk-kamchatskiy\n",
      "Processing Record 28 of Set 5 : lompoc\n",
      "City not found. Skipping...\n",
      "Processing Record 29 of Set 5 : adrar\n",
      "Processing Record 30 of Set 5 : san patricio\n",
      "Processing Record 31 of Set 5 : vardo\n",
      "Processing Record 32 of Set 5 : lovozero\n",
      "Processing Record 33 of Set 5 : bartica\n",
      "Processing Record 34 of Set 5 : la roda\n",
      "Processing Record 35 of Set 5 : lebu\n",
      "Processing Record 36 of Set 5 : torbay\n",
      "Processing Record 37 of Set 5 : hobyo\n",
      "Processing Record 38 of Set 5 : dongying\n",
      "Processing Record 39 of Set 5 : balykshi\n",
      "Processing Record 40 of Set 5 : north bend\n",
      "Processing Record 41 of Set 5 : bani\n",
      "City not found. Skipping...\n",
      "Processing Record 42 of Set 5 : ulaangom\n",
      "City not found. Skipping...\n",
      "Processing Record 43 of Set 5 : pevek\n",
      "Processing Record 44 of Set 5 : morgan city\n",
      "Processing Record 45 of Set 5 : quelimane\n",
      "Processing Record 46 of Set 5 : sangar\n",
      "Processing Record 47 of Set 5 : sabang\n",
      "Processing Record 48 of Set 5 : lufilufi\n",
      "Processing Record 49 of Set 5 : sturgeon falls\n",
      "Processing Record 50 of Set 5 : baikunthpur\n",
      "Processing Record 0 of Set 6 : igrim\n",
      "Processing Record 1 of Set 6 : leningradskiy\n",
      "Processing Record 2 of Set 6 : anloga\n",
      "City not found. Skipping...\n",
      "Processing Record 3 of Set 6 : saldanha\n",
      "Processing Record 4 of Set 6 : marataizes\n",
      "Processing Record 5 of Set 6 : linxia\n",
      "Processing Record 6 of Set 6 : arraial do cabo\n",
      "Processing Record 7 of Set 6 : ajdabiya\n",
      "Processing Record 8 of Set 6 : huangpi\n",
      "Processing Record 9 of Set 6 : texas city\n",
      "Processing Record 10 of Set 6 : vila do maio\n",
      "Processing Record 11 of Set 6 : ilulissat\n",
      "Processing Record 12 of Set 6 : waipawa\n",
      "Processing Record 13 of Set 6 : castro\n",
      "Processing Record 14 of Set 6 : spassk-dalniy\n",
      "Processing Record 15 of Set 6 : flinders\n",
      "Processing Record 16 of Set 6 : saint-paul\n",
      "Processing Record 17 of Set 6 : buchanan\n",
      "Processing Record 18 of Set 6 : carnarvon\n",
      "Processing Record 19 of Set 6 : banff\n",
      "City not found. Skipping...\n",
      "Processing Record 20 of Set 6 : turukhansk\n",
      "Processing Record 21 of Set 6 : erdaojiang\n",
      "City not found. Skipping...\n",
      "Processing Record 22 of Set 6 : sur\n",
      "Processing Record 23 of Set 6 : kafanchan\n",
      "Processing Record 24 of Set 6 : poronaysk\n",
      "Processing Record 25 of Set 6 : new orleans\n",
      "Processing Record 26 of Set 6 : mandalgovi\n",
      "Processing Record 27 of Set 6 : libertador general san martin\n",
      "Processing Record 28 of Set 6 : mecca\n",
      "Processing Record 29 of Set 6 : srivardhan\n",
      "Processing Record 30 of Set 6 : centralia\n",
      "Processing Record 31 of Set 6 : saint-francois\n",
      "Processing Record 32 of Set 6 : havoysund\n",
      "City not found. Skipping...\n",
      "Processing Record 33 of Set 6 : rocha\n",
      "Processing Record 34 of Set 6 : vao\n",
      "Processing Record 35 of Set 6 : micheweni\n",
      "Processing Record 36 of Set 6 : doka\n",
      "Processing Record 37 of Set 6 : mackay\n",
      "Processing Record 38 of Set 6 : amaigbo\n",
      "Processing Record 39 of Set 6 : qinhuangdao\n",
      "Processing Record 40 of Set 6 : almaznyy\n",
      "Processing Record 41 of Set 6 : teruel\n",
      "Processing Record 42 of Set 6 : taybad\n",
      "Processing Record 43 of Set 6 : oktyabrskoye\n",
      "Processing Record 44 of Set 6 : sinazongwe\n",
      "Processing Record 45 of Set 6 : san juan\n",
      "Processing Record 46 of Set 6 : koungheul\n",
      "Processing Record 47 of Set 6 : ostrovnoy\n",
      "Processing Record 48 of Set 6 : kefamenanu\n",
      "Processing Record 49 of Set 6 : atbasar\n",
      "Processing Record 50 of Set 6 : khatanga\n",
      "Processing Record 0 of Set 7 : palatka\n",
      "Processing Record 1 of Set 7 : deep river\n",
      "Processing Record 2 of Set 7 : valparaiso\n",
      "Processing Record 3 of Set 7 : ust-kuyga\n",
      "Processing Record 4 of Set 7 : burnie\n",
      "Processing Record 5 of Set 7 : codrington\n",
      "Processing Record 6 of Set 7 : port lincoln\n",
      "Processing Record 7 of Set 7 : saint-joseph\n",
      "Processing Record 8 of Set 7 : sitka\n",
      "Processing Record 9 of Set 7 : cap-aux-meules\n",
      "Processing Record 10 of Set 7 : pangnirtung\n",
      "Processing Record 11 of Set 7 : adiake\n",
      "Processing Record 12 of Set 7 : waitati\n",
      "Processing Record 13 of Set 7 : camalu\n",
      "Processing Record 14 of Set 7 : taltal\n",
      "Processing Record 15 of Set 7 : auki\n",
      "Processing Record 16 of Set 7 : cabo san lucas\n",
      "Processing Record 17 of Set 7 : juan lacaze\n",
      "Processing Record 18 of Set 7 : barreirinhas\n",
      "Processing Record 19 of Set 7 : nabire\n",
      "Processing Record 20 of Set 7 : remiremont\n",
      "City not found. Skipping...\n",
      "Processing Record 21 of Set 7 : scarborough\n",
      "Processing Record 22 of Set 7 : axim\n",
      "Processing Record 23 of Set 7 : omsukchan\n",
      "Processing Record 24 of Set 7 : half moon bay\n",
      "Processing Record 25 of Set 7 : ilo\n",
      "Processing Record 26 of Set 7 : port-gentil\n",
      "Processing Record 27 of Set 7 : synya\n",
      "Processing Record 28 of Set 7 : yanam\n",
      "Processing Record 29 of Set 7 : ouesso\n",
      "Processing Record 30 of Set 7 : klyuchi\n",
      "Processing Record 31 of Set 7 : mahebourg\n",
      "Processing Record 32 of Set 7 : ndjole\n",
      "Processing Record 33 of Set 7 : kainantu\n",
      "Processing Record 34 of Set 7 : baft\n",
      "Processing Record 35 of Set 7 : kloulklubed\n",
      "Processing Record 36 of Set 7 : longjiang\n",
      "Processing Record 37 of Set 7 : kungurtug\n",
      "Processing Record 38 of Set 7 : lafia\n",
      "Processing Record 39 of Set 7 : novikovo\n",
      "Processing Record 40 of Set 7 : talnakh\n",
      "Processing Record 41 of Set 7 : abu samrah\n",
      "Processing Record 42 of Set 7 : port-cartier\n",
      "Processing Record 43 of Set 7 : morondava\n",
      "Processing Record 44 of Set 7 : general pico\n",
      "Processing Record 45 of Set 7 : evensk\n",
      "City not found. Skipping...\n",
      "Processing Record 46 of Set 7 : mafinga\n",
      "Processing Record 47 of Set 7 : mehamn\n",
      "Processing Record 48 of Set 7 : ranong\n",
      "Processing Record 49 of Set 7 : bud\n",
      "Processing Record 50 of Set 7 : khovu-aksy\n",
      "Processing Record 0 of Set 8 : zhigansk\n",
      "Processing Record 1 of Set 8 : faya\n",
      "Processing Record 2 of Set 8 : jumla\n",
      "Processing Record 3 of Set 8 : murgab\n",
      "Processing Record 4 of Set 8 : aykhal\n",
      "Processing Record 5 of Set 8 : lagoa\n",
      "Processing Record 6 of Set 8 : norton\n",
      "Processing Record 7 of Set 8 : sakakah\n",
      "City not found. Skipping...\n",
      "Processing Record 8 of Set 8 : nagato\n",
      "Processing Record 9 of Set 8 : kjollefjord\n",
      "Processing Record 10 of Set 8 : palu\n",
      "Processing Record 11 of Set 8 : kargasok\n",
      "City not found. Skipping...\n",
      "Processing Record 12 of Set 8 : mahon\n",
      "Processing Record 13 of Set 8 : drezdenko\n",
      "Processing Record 14 of Set 8 : walvis bay\n",
      "Processing Record 15 of Set 8 : grand valley\n",
      "Processing Record 16 of Set 8 : novyy urengoy\n",
      "Processing Record 17 of Set 8 : meulaboh\n"
     ]
    },
    {
     "name": "stdout",
     "output_type": "stream",
     "text": [
      "Processing Record 18 of Set 8 : tiznit\n",
      "Processing Record 19 of Set 8 : buala\n",
      "Processing Record 20 of Set 8 : praia da vitoria\n",
      "Processing Record 21 of Set 8 : richards bay\n",
      "City not found. Skipping...\n",
      "Processing Record 22 of Set 8 : bundaberg\n",
      "Processing Record 23 of Set 8 : haines junction\n",
      "Processing Record 24 of Set 8 : sheridan\n",
      "Processing Record 25 of Set 8 : otane\n",
      "Processing Record 26 of Set 8 : puerto leguizamo\n",
      "Processing Record 27 of Set 8 : vaitape\n",
      "Processing Record 28 of Set 8 : cabedelo\n",
      "Processing Record 29 of Set 8 : angol\n",
      "Processing Record 30 of Set 8 : jardim\n",
      "Processing Record 31 of Set 8 : mitsamiouli\n",
      "Processing Record 32 of Set 8 : mandurah\n",
      "Processing Record 33 of Set 8 : la palma\n",
      "Processing Record 34 of Set 8 : nueve de julio\n",
      "Processing Record 35 of Set 8 : sirjan\n",
      "Processing Record 36 of Set 8 : kikwit\n",
      "Processing Record 37 of Set 8 : avenal\n",
      "Processing Record 38 of Set 8 : muisne\n",
      "Processing Record 39 of Set 8 : teguldet\n",
      "Processing Record 40 of Set 8 : wasilla\n",
      "City not found. Skipping...\n",
      "Processing Record 41 of Set 8 : ikom\n",
      "Processing Record 42 of Set 8 : tecoanapa\n",
      "Processing Record 43 of Set 8 : yazman\n",
      "Processing Record 44 of Set 8 : waw\n",
      "City not found. Skipping...\n",
      "Processing Record 45 of Set 8 : ambilobe\n",
      "Processing Record 46 of Set 8 : tallahassee\n",
      "Processing Record 47 of Set 8 : zunyi\n",
      "City not found. Skipping...\n",
      "Processing Record 48 of Set 8 : mudon\n",
      "City not found. Skipping...\n",
      "Processing Record 49 of Set 8 : mahajanga\n",
      "Processing Record 50 of Set 8 : coquimbo\n",
      "Processing Record 0 of Set 9 : tazovskiy\n",
      "Processing Record 1 of Set 9 : itarema\n",
      "Processing Record 2 of Set 9 : znamenskoye\n",
      "Processing Record 3 of Set 9 : mitu\n",
      "Processing Record 4 of Set 9 : taft\n",
      "City not found. Skipping...\n",
      "Processing Record 5 of Set 9 : gumdag\n",
      "Processing Record 6 of Set 9 : porto nacional\n",
      "Processing Record 7 of Set 9 : isangel\n",
      "Processing Record 8 of Set 9 : bhachau\n",
      "Processing Record 9 of Set 9 : kampong thum\n",
      "Processing Record 10 of Set 9 : guiyang\n",
      "Processing Record 11 of Set 9 : san andres\n",
      "Processing Record 12 of Set 9 : kokopo\n",
      "Processing Record 13 of Set 9 : jalu\n",
      "Processing Record 14 of Set 9 : qaqortoq\n",
      "Processing Record 15 of Set 9 : ploemeur\n",
      "Processing Record 16 of Set 9 : nicoya\n",
      "Processing Record 17 of Set 9 : puerto escondido\n",
      "Processing Record 18 of Set 9 : tessalit\n",
      "Processing Record 19 of Set 9 : cocobeach\n",
      "Processing Record 20 of Set 9 : zhangye\n",
      "Processing Record 21 of Set 9 : dakar\n",
      "Processing Record 22 of Set 9 : beira\n",
      "Processing Record 23 of Set 9 : vanavara\n",
      "Processing Record 24 of Set 9 : hay river\n",
      "Processing Record 25 of Set 9 : kushmurun\n",
      "Processing Record 26 of Set 9 : koumac\n",
      "Processing Record 27 of Set 9 : sterling\n",
      "Processing Record 28 of Set 9 : kavaratti\n",
      "Processing Record 29 of Set 9 : samarai\n",
      "Processing Record 30 of Set 9 : chalus\n",
      "Processing Record 31 of Set 9 : ishim\n",
      "Processing Record 32 of Set 9 : quebec\n",
      "Processing Record 33 of Set 9 : powell river\n",
      "Processing Record 34 of Set 9 : mutoko\n",
      "Processing Record 35 of Set 9 : raudeberg\n",
      "Processing Record 36 of Set 9 : carballo\n",
      "Processing Record 37 of Set 9 : lahaina\n",
      "Processing Record 38 of Set 9 : lasa\n",
      "Processing Record 39 of Set 9 : maragheh\n",
      "Processing Record 40 of Set 9 : nuevo imperial\n",
      "City not found. Skipping...\n",
      "Processing Record 41 of Set 9 : lar\n",
      "Processing Record 42 of Set 9 : molina\n",
      "Processing Record 43 of Set 9 : rawson\n",
      "Processing Record 44 of Set 9 : alofi\n",
      "Processing Record 45 of Set 9 : bulgan\n",
      "Processing Record 46 of Set 9 : mosquera\n",
      "Processing Record 47 of Set 9 : garowe\n",
      "Processing Record 48 of Set 9 : sao jose da coroa grande\n",
      "Processing Record 49 of Set 9 : rawlins\n",
      "Processing Record 50 of Set 9 : abbeville\n",
      "Processing Record 0 of Set 10 : kholodnyy\n",
      "Processing Record 1 of Set 10 : wagga wagga\n",
      "Processing Record 2 of Set 10 : ambatolampy\n",
      "City not found. Skipping...\n",
      "City not found. Skipping...\n",
      "Processing Record 3 of Set 10 : cayenne\n",
      "Processing Record 4 of Set 10 : tarbagatay\n",
      "Processing Record 5 of Set 10 : astorga\n",
      "Processing Record 6 of Set 10 : latung\n",
      "Processing Record 7 of Set 10 : jucurutu\n",
      "Processing Record 8 of Set 10 : alice springs\n",
      "Processing Record 9 of Set 10 : padang\n",
      "Processing Record 10 of Set 10 : sechura\n",
      "Processing Record 11 of Set 10 : skibbereen\n",
      "Processing Record 12 of Set 10 : aquiraz\n",
      "Processing Record 13 of Set 10 : thinadhoo\n",
      "Processing Record 14 of Set 10 : roald\n",
      "Processing Record 15 of Set 10 : arklow\n",
      "Processing Record 16 of Set 10 : hirara\n",
      "Processing Record 17 of Set 10 : rio grande\n",
      "Processing Record 18 of Set 10 : christchurch\n",
      "City not found. Skipping...\n",
      "City not found. Skipping...\n",
      "Processing Record 19 of Set 10 : dezful\n",
      "Processing Record 20 of Set 10 : vestmanna\n",
      "Processing Record 21 of Set 10 : jiancheng\n",
      "Processing Record 22 of Set 10 : svoge\n",
      "Processing Record 23 of Set 10 : polewali\n",
      "Processing Record 24 of Set 10 : tabou\n",
      "Processing Record 25 of Set 10 : hambantota\n",
      "Processing Record 26 of Set 10 : staryy nadym\n",
      "City not found. Skipping...\n",
      "Processing Record 27 of Set 10 : opuwo\n",
      "Processing Record 28 of Set 10 : itacarambi\n",
      "Processing Record 29 of Set 10 : flagstaff\n",
      "Processing Record 30 of Set 10 : juegang\n",
      "Processing Record 31 of Set 10 : basoko\n",
      "Processing Record 32 of Set 10 : kahului\n",
      "Processing Record 33 of Set 10 : pidhorodna\n",
      "Processing Record 34 of Set 10 : jacqueville\n",
      "Processing Record 35 of Set 10 : mago\n",
      "Processing Record 36 of Set 10 : nasirabad\n",
      "City not found. Skipping...\n",
      "Processing Record 37 of Set 10 : novosergiyevka\n",
      "Processing Record 38 of Set 10 : shawinigan\n",
      "Processing Record 39 of Set 10 : coahuayana\n",
      "Processing Record 40 of Set 10 : klaksvik\n",
      "Processing Record 41 of Set 10 : malindi\n",
      "Processing Record 42 of Set 10 : risor\n",
      "Processing Record 43 of Set 10 : mungaa\n",
      "Processing Record 44 of Set 10 : bacolod\n",
      "Processing Record 45 of Set 10 : avera\n",
      "Processing Record 46 of Set 10 : yamethin\n",
      "Processing Record 47 of Set 10 : longyan\n",
      "Processing Record 48 of Set 10 : bannu\n",
      "Processing Record 49 of Set 10 : aksu\n",
      "Processing Record 50 of Set 10 : turan\n",
      "Processing Record 0 of Set 11 : bambanglipuro\n",
      "Processing Record 1 of Set 11 : katherine\n",
      "Processing Record 2 of Set 11 : ishigaki\n",
      "Processing Record 3 of Set 11 : mount gambier\n",
      "Processing Record 4 of Set 11 : thatcham\n",
      "Processing Record 5 of Set 11 : safford\n",
      "Processing Record 6 of Set 11 : pitimbu\n",
      "Processing Record 7 of Set 11 : lysa hora\n",
      "Processing Record 8 of Set 11 : mehran\n",
      "Processing Record 9 of Set 11 : savannah bight\n",
      "Processing Record 10 of Set 11 : gat\n",
      "Processing Record 11 of Set 11 : tianpeng\n",
      "Processing Record 12 of Set 11 : ankara\n",
      "Processing Record 13 of Set 11 : bandar-e anzali\n",
      "Processing Record 14 of Set 11 : tomatlan\n",
      "Processing Record 15 of Set 11 : khandagayty\n",
      "Processing Record 16 of Set 11 : belmonte\n",
      "Processing Record 17 of Set 11 : yulara\n",
      "Processing Record 18 of Set 11 : awjilah\n",
      "Processing Record 19 of Set 11 : bonthe\n",
      "Processing Record 20 of Set 11 : gazanjyk\n",
      "Processing Record 21 of Set 11 : eydhafushi\n",
      "Processing Record 22 of Set 11 : hofn\n",
      "Processing Record 23 of Set 11 : chumikan\n",
      "Processing Record 24 of Set 11 : zlobin\n",
      "Processing Record 25 of Set 11 : donskoy\n",
      "Processing Record 26 of Set 11 : saint john\n",
      "Processing Record 27 of Set 11 : rundu\n",
      "Processing Record 28 of Set 11 : belle fourche\n",
      "Processing Record 29 of Set 11 : boa vista\n",
      "City not found. Skipping...\n",
      "Processing Record 30 of Set 11 : namatanai\n",
      "Processing Record 31 of Set 11 : bekovo\n",
      "Processing Record 32 of Set 11 : pangoa\n",
      "Processing Record 33 of Set 11 : urambo\n",
      "Processing Record 34 of Set 11 : zhigalovo\n",
      "Processing Record 35 of Set 11 : dunmore town\n",
      "Processing Record 36 of Set 11 : chany\n",
      "Processing Record 37 of Set 11 : bali chak\n",
      "Processing Record 38 of Set 11 : kyzyl\n",
      "Processing Record 39 of Set 11 : isla mujeres\n",
      "Processing Record 40 of Set 11 : tame\n",
      "Processing Record 41 of Set 11 : presidencia roque saenz pena\n",
      "Processing Record 42 of Set 11 : nouadhibou\n",
      "Processing Record 43 of Set 11 : monrovia\n",
      "Processing Record 44 of Set 11 : podor\n",
      "Processing Record 45 of Set 11 : agadez\n",
      "City not found. Skipping...\n",
      "Processing Record 46 of Set 11 : deputatskiy\n",
      "Processing Record 47 of Set 11 : shahabad\n",
      "Processing Record 48 of Set 11 : verkhoyansk\n",
      "Processing Record 49 of Set 11 : makakilo city\n",
      "Processing Record 50 of Set 11 : tereze\n",
      "Processing Record 0 of Set 12 : ossora\n",
      "Processing Record 1 of Set 12 : vieques\n"
     ]
    },
    {
     "name": "stdout",
     "output_type": "stream",
     "text": [
      "Processing Record 2 of Set 12 : kysyl-syr\n",
      "Processing Record 3 of Set 12 : santa maria del oro\n",
      "Processing Record 4 of Set 12 : fairbanks\n",
      "Processing Record 5 of Set 12 : cap-chat\n",
      "Processing Record 6 of Set 12 : vanimo\n",
      "Processing Record 7 of Set 12 : great falls\n",
      "Processing Record 8 of Set 12 : kualakapuas\n",
      "Processing Record 9 of Set 12 : komsomolskiy\n",
      "-----------------------------\n",
      "Data Retrieval Complete\n",
      "-----------------------------\n"
     ]
    }
   ],
   "source": [
    "city_name = []\n",
    "cloudiness = []\n",
    "country = []\n",
    "date = []\n",
    "humidity = []\n",
    "lat = []\n",
    "lng = []\n",
    "max_temp = []\n",
    "wind_speed = []\n",
    "index_count = 0\n",
    "set_count = 1\n",
    "\n",
    "print('Beginning Data Retrieval ')\n",
    "print('-----------------------------')\n",
    "\n",
    "base_url = 'http://api.openweathermap.org/data/2.5/weather?'\n",
    "units = 'imperial'\n",
    "retrieval_url = f'{base_url}appid={weather_api_key}&units={units}&q='\n",
    "\n",
    "\n",
    "# For each city name in cities list, do below things...\n",
    "for index, city in enumerate(cities, start = 1):\n",
    "    try:\n",
    "        response = requests.get(retrieval_url + city).json()\n",
    "        city_name.append(response['name'])\n",
    "        cloudiness.append(response['clouds']['all'])\n",
    "        country.append(response['sys']['country'])\n",
    "        date.append(response['dt'])\n",
    "        humidity.append(response['main']['humidity'])\n",
    "        lat.append(response['coord']['lat'])\n",
    "        lng.append(response['coord']['lon'])\n",
    "        max_temp.append(response['main']['temp_max'])\n",
    "        wind_speed.append(response['wind']['speed'])\n",
    "        if index_count > 49:\n",
    "            index_count = 0\n",
    "            set_count = set_count + 1\n",
    "    \n",
    "        else:\n",
    "            index_count = index_count + 1\n",
    "            \n",
    "        print(f'Processing Record {index_count} of Set {set_count} : {city}') \n",
    "  \n",
    "    except(KeyError, IndexError):\n",
    "        print('City not found. Skipping...')\n",
    "\n",
    "print('-----------------------------')\n",
    "print('Data Retrieval Complete')\n",
    "print('-----------------------------')"
   ]
  },
  {
   "cell_type": "markdown",
   "metadata": {},
   "source": [
    "### Convert Raw Data to DataFrame\n",
    "* Export the city data into a .csv.\n",
    "* Display the DataFrame"
   ]
  },
  {
   "cell_type": "code",
   "execution_count": 15,
   "metadata": {},
   "outputs": [
    {
     "data": {
      "text/html": [
       "<div>\n",
       "<style scoped>\n",
       "    .dataframe tbody tr th:only-of-type {\n",
       "        vertical-align: middle;\n",
       "    }\n",
       "\n",
       "    .dataframe tbody tr th {\n",
       "        vertical-align: top;\n",
       "    }\n",
       "\n",
       "    .dataframe thead th {\n",
       "        text-align: right;\n",
       "    }\n",
       "</style>\n",
       "<table border=\"1\" class=\"dataframe\">\n",
       "  <thead>\n",
       "    <tr style=\"text-align: right;\">\n",
       "      <th></th>\n",
       "      <th>City</th>\n",
       "      <th>Lat</th>\n",
       "      <th>Lng</th>\n",
       "      <th>Max Temp</th>\n",
       "      <th>Humidity</th>\n",
       "      <th>Cloudiness</th>\n",
       "      <th>Wind Speed</th>\n",
       "      <th>Country</th>\n",
       "      <th>Date</th>\n",
       "    </tr>\n",
       "  </thead>\n",
       "  <tbody>\n",
       "    <tr>\n",
       "      <th>0</th>\n",
       "      <td>Belaya Gora</td>\n",
       "      <td>68.5333</td>\n",
       "      <td>146.4167</td>\n",
       "      <td>-21.30</td>\n",
       "      <td>87</td>\n",
       "      <td>100</td>\n",
       "      <td>3.69</td>\n",
       "      <td>RU</td>\n",
       "      <td>1611868891</td>\n",
       "    </tr>\n",
       "    <tr>\n",
       "      <th>1</th>\n",
       "      <td>Cherskiy</td>\n",
       "      <td>68.7500</td>\n",
       "      <td>161.3000</td>\n",
       "      <td>-28.77</td>\n",
       "      <td>85</td>\n",
       "      <td>82</td>\n",
       "      <td>2.71</td>\n",
       "      <td>RU</td>\n",
       "      <td>1611868567</td>\n",
       "    </tr>\n",
       "    <tr>\n",
       "      <th>2</th>\n",
       "      <td>Busselton</td>\n",
       "      <td>-33.6500</td>\n",
       "      <td>115.3333</td>\n",
       "      <td>61.00</td>\n",
       "      <td>80</td>\n",
       "      <td>0</td>\n",
       "      <td>12.39</td>\n",
       "      <td>AU</td>\n",
       "      <td>1611868568</td>\n",
       "    </tr>\n",
       "    <tr>\n",
       "      <th>3</th>\n",
       "      <td>Albany</td>\n",
       "      <td>42.6001</td>\n",
       "      <td>-73.9662</td>\n",
       "      <td>21.00</td>\n",
       "      <td>49</td>\n",
       "      <td>29</td>\n",
       "      <td>3.00</td>\n",
       "      <td>US</td>\n",
       "      <td>1611868891</td>\n",
       "    </tr>\n",
       "    <tr>\n",
       "      <th>4</th>\n",
       "      <td>Nikolskoye</td>\n",
       "      <td>59.7035</td>\n",
       "      <td>30.7861</td>\n",
       "      <td>32.00</td>\n",
       "      <td>93</td>\n",
       "      <td>75</td>\n",
       "      <td>8.95</td>\n",
       "      <td>RU</td>\n",
       "      <td>1611868891</td>\n",
       "    </tr>\n",
       "    <tr>\n",
       "      <th>...</th>\n",
       "      <td>...</td>\n",
       "      <td>...</td>\n",
       "      <td>...</td>\n",
       "      <td>...</td>\n",
       "      <td>...</td>\n",
       "      <td>...</td>\n",
       "      <td>...</td>\n",
       "      <td>...</td>\n",
       "      <td>...</td>\n",
       "    </tr>\n",
       "    <tr>\n",
       "      <th>565</th>\n",
       "      <td>Cap-Chat</td>\n",
       "      <td>49.1001</td>\n",
       "      <td>-66.6821</td>\n",
       "      <td>21.20</td>\n",
       "      <td>73</td>\n",
       "      <td>91</td>\n",
       "      <td>2.30</td>\n",
       "      <td>CA</td>\n",
       "      <td>1611868824</td>\n",
       "    </tr>\n",
       "    <tr>\n",
       "      <th>566</th>\n",
       "      <td>Vanimo</td>\n",
       "      <td>-2.6741</td>\n",
       "      <td>141.3028</td>\n",
       "      <td>78.04</td>\n",
       "      <td>82</td>\n",
       "      <td>98</td>\n",
       "      <td>3.36</td>\n",
       "      <td>PG</td>\n",
       "      <td>1611868993</td>\n",
       "    </tr>\n",
       "    <tr>\n",
       "      <th>567</th>\n",
       "      <td>Great Falls</td>\n",
       "      <td>47.5002</td>\n",
       "      <td>-111.3008</td>\n",
       "      <td>48.20</td>\n",
       "      <td>31</td>\n",
       "      <td>1</td>\n",
       "      <td>14.97</td>\n",
       "      <td>US</td>\n",
       "      <td>1611868877</td>\n",
       "    </tr>\n",
       "    <tr>\n",
       "      <th>568</th>\n",
       "      <td>Kualakapuas</td>\n",
       "      <td>-3.0091</td>\n",
       "      <td>114.3876</td>\n",
       "      <td>73.40</td>\n",
       "      <td>100</td>\n",
       "      <td>75</td>\n",
       "      <td>2.04</td>\n",
       "      <td>ID</td>\n",
       "      <td>1611868993</td>\n",
       "    </tr>\n",
       "    <tr>\n",
       "      <th>569</th>\n",
       "      <td>Yangi Marg`ilon</td>\n",
       "      <td>40.4272</td>\n",
       "      <td>71.7189</td>\n",
       "      <td>30.20</td>\n",
       "      <td>59</td>\n",
       "      <td>0</td>\n",
       "      <td>6.91</td>\n",
       "      <td>UZ</td>\n",
       "      <td>1611868993</td>\n",
       "    </tr>\n",
       "  </tbody>\n",
       "</table>\n",
       "<p>570 rows × 9 columns</p>\n",
       "</div>"
      ],
      "text/plain": [
       "                City      Lat       Lng  Max Temp  Humidity  Cloudiness  \\\n",
       "0        Belaya Gora  68.5333  146.4167    -21.30        87         100   \n",
       "1           Cherskiy  68.7500  161.3000    -28.77        85          82   \n",
       "2          Busselton -33.6500  115.3333     61.00        80           0   \n",
       "3             Albany  42.6001  -73.9662     21.00        49          29   \n",
       "4         Nikolskoye  59.7035   30.7861     32.00        93          75   \n",
       "..               ...      ...       ...       ...       ...         ...   \n",
       "565         Cap-Chat  49.1001  -66.6821     21.20        73          91   \n",
       "566           Vanimo  -2.6741  141.3028     78.04        82          98   \n",
       "567      Great Falls  47.5002 -111.3008     48.20        31           1   \n",
       "568      Kualakapuas  -3.0091  114.3876     73.40       100          75   \n",
       "569  Yangi Marg`ilon  40.4272   71.7189     30.20        59           0   \n",
       "\n",
       "     Wind Speed Country        Date  \n",
       "0          3.69      RU  1611868891  \n",
       "1          2.71      RU  1611868567  \n",
       "2         12.39      AU  1611868568  \n",
       "3          3.00      US  1611868891  \n",
       "4          8.95      RU  1611868891  \n",
       "..          ...     ...         ...  \n",
       "565        2.30      CA  1611868824  \n",
       "566        3.36      PG  1611868993  \n",
       "567       14.97      US  1611868877  \n",
       "568        2.04      ID  1611868993  \n",
       "569        6.91      UZ  1611868993  \n",
       "\n",
       "[570 rows x 9 columns]"
      ]
     },
     "execution_count": 15,
     "metadata": {},
     "output_type": "execute_result"
    }
   ],
   "source": [
    "#build dataframe\n",
    "weather_df = pd.DataFrame({\n",
    "    'City' : city_name,\n",
    "    'Lat' : lat,\n",
    "    'Lng' : lng,\n",
    "    'Max Temp' : max_temp,\n",
    "    'Humidity': humidity,\n",
    "    'Cloudiness' : cloudiness,\n",
    "    'Wind Speed' : wind_speed,\n",
    "    'Country' : country,\n",
    "    'Date': date,\n",
    "    \n",
    "})\n",
    "\n",
    "#export to csv\n",
    "weather_df.to_csv('output_data/cities.csv', index = False)\n",
    "\n",
    "#display dataframe\n",
    "weather_df"
   ]
  },
  {
   "cell_type": "code",
   "execution_count": 14,
   "metadata": {},
   "outputs": [
    {
     "data": {
      "text/html": [
       "<div>\n",
       "<style scoped>\n",
       "    .dataframe tbody tr th:only-of-type {\n",
       "        vertical-align: middle;\n",
       "    }\n",
       "\n",
       "    .dataframe tbody tr th {\n",
       "        vertical-align: top;\n",
       "    }\n",
       "\n",
       "    .dataframe thead th {\n",
       "        text-align: right;\n",
       "    }\n",
       "</style>\n",
       "<table border=\"1\" class=\"dataframe\">\n",
       "  <thead>\n",
       "    <tr style=\"text-align: right;\">\n",
       "      <th></th>\n",
       "      <th>Lat</th>\n",
       "      <th>Lng</th>\n",
       "      <th>Max Temp</th>\n",
       "      <th>Humidity</th>\n",
       "      <th>Cloudiness</th>\n",
       "      <th>Wind Speed</th>\n",
       "      <th>Date</th>\n",
       "    </tr>\n",
       "  </thead>\n",
       "  <tbody>\n",
       "    <tr>\n",
       "      <th>count</th>\n",
       "      <td>570.000000</td>\n",
       "      <td>570.000000</td>\n",
       "      <td>570.000000</td>\n",
       "      <td>570.000000</td>\n",
       "      <td>570.000000</td>\n",
       "      <td>570.000000</td>\n",
       "      <td>5.700000e+02</td>\n",
       "    </tr>\n",
       "    <tr>\n",
       "      <th>mean</th>\n",
       "      <td>20.324191</td>\n",
       "      <td>18.300985</td>\n",
       "      <td>48.890649</td>\n",
       "      <td>71.817544</td>\n",
       "      <td>51.642105</td>\n",
       "      <td>8.979632</td>\n",
       "      <td>1.611869e+09</td>\n",
       "    </tr>\n",
       "    <tr>\n",
       "      <th>std</th>\n",
       "      <td>32.956104</td>\n",
       "      <td>90.015432</td>\n",
       "      <td>33.842725</td>\n",
       "      <td>19.296458</td>\n",
       "      <td>40.044593</td>\n",
       "      <td>6.549129</td>\n",
       "      <td>1.053974e+02</td>\n",
       "    </tr>\n",
       "    <tr>\n",
       "      <th>min</th>\n",
       "      <td>-54.800000</td>\n",
       "      <td>-175.200000</td>\n",
       "      <td>-53.950000</td>\n",
       "      <td>12.000000</td>\n",
       "      <td>0.000000</td>\n",
       "      <td>0.160000</td>\n",
       "      <td>1.611868e+09</td>\n",
       "    </tr>\n",
       "    <tr>\n",
       "      <th>25%</th>\n",
       "      <td>-5.325375</td>\n",
       "      <td>-60.208275</td>\n",
       "      <td>30.050000</td>\n",
       "      <td>62.000000</td>\n",
       "      <td>4.000000</td>\n",
       "      <td>4.060000</td>\n",
       "      <td>1.611869e+09</td>\n",
       "    </tr>\n",
       "    <tr>\n",
       "      <th>50%</th>\n",
       "      <td>25.393350</td>\n",
       "      <td>22.319100</td>\n",
       "      <td>59.000000</td>\n",
       "      <td>76.000000</td>\n",
       "      <td>56.000000</td>\n",
       "      <td>7.260000</td>\n",
       "      <td>1.611869e+09</td>\n",
       "    </tr>\n",
       "    <tr>\n",
       "      <th>75%</th>\n",
       "      <td>47.478200</td>\n",
       "      <td>96.144625</td>\n",
       "      <td>77.000000</td>\n",
       "      <td>87.000000</td>\n",
       "      <td>90.000000</td>\n",
       "      <td>11.617500</td>\n",
       "      <td>1.611869e+09</td>\n",
       "    </tr>\n",
       "    <tr>\n",
       "      <th>max</th>\n",
       "      <td>78.218600</td>\n",
       "      <td>179.316700</td>\n",
       "      <td>95.400000</td>\n",
       "      <td>100.000000</td>\n",
       "      <td>100.000000</td>\n",
       "      <td>37.980000</td>\n",
       "      <td>1.611869e+09</td>\n",
       "    </tr>\n",
       "  </tbody>\n",
       "</table>\n",
       "</div>"
      ],
      "text/plain": [
       "              Lat         Lng    Max Temp    Humidity  Cloudiness  Wind Speed  \\\n",
       "count  570.000000  570.000000  570.000000  570.000000  570.000000  570.000000   \n",
       "mean    20.324191   18.300985   48.890649   71.817544   51.642105    8.979632   \n",
       "std     32.956104   90.015432   33.842725   19.296458   40.044593    6.549129   \n",
       "min    -54.800000 -175.200000  -53.950000   12.000000    0.000000    0.160000   \n",
       "25%     -5.325375  -60.208275   30.050000   62.000000    4.000000    4.060000   \n",
       "50%     25.393350   22.319100   59.000000   76.000000   56.000000    7.260000   \n",
       "75%     47.478200   96.144625   77.000000   87.000000   90.000000   11.617500   \n",
       "max     78.218600  179.316700   95.400000  100.000000  100.000000   37.980000   \n",
       "\n",
       "               Date  \n",
       "count  5.700000e+02  \n",
       "mean   1.611869e+09  \n",
       "std    1.053974e+02  \n",
       "min    1.611868e+09  \n",
       "25%    1.611869e+09  \n",
       "50%    1.611869e+09  \n",
       "75%    1.611869e+09  \n",
       "max    1.611869e+09  "
      ]
     },
     "execution_count": 14,
     "metadata": {},
     "output_type": "execute_result"
    }
   ],
   "source": [
    "#summary stats for dataframe\n",
    "weather_df.describe()"
   ]
  },
  {
   "cell_type": "markdown",
   "metadata": {},
   "source": [
    "## Inspect the data and remove the cities where the humidity > 100%.\n",
    "----\n",
    "Skip this step if there are no cities that have humidity > 100%. "
   ]
  },
  {
   "cell_type": "code",
   "execution_count": 16,
   "metadata": {},
   "outputs": [],
   "source": [
    "#n/a no data with >100% humidity see above "
   ]
  },
  {
   "cell_type": "markdown",
   "metadata": {},
   "source": [
    "## Plotting the Data\n",
    "* Use proper labeling of the plots using plot titles (including date of analysis) and axes labels.\n",
    "* Save the plotted figures as .pngs."
   ]
  },
  {
   "cell_type": "markdown",
   "metadata": {},
   "source": [
    "## Latitude vs. Temperature Plot"
   ]
  },
  {
   "cell_type": "code",
   "execution_count": 21,
   "metadata": {},
   "outputs": [
    {
     "data": {
      "image/png": "[encoded data removed]",
      "text/plain": [
       "<Figure size 432x288 with 1 Axes>"
      ]
     },
     "metadata": {
      "needs_background": "light"
     },
     "output_type": "display_data"
    }
   ],
   "source": [
    "#create scater plot\n",
    "plt.scatter(weather_df['Lat'], weather_df['Max Temp'], facecolor = 'red', edgecolor = 'black')\n",
    "\n",
    "#title\n",
    "plt.title('City Latitude vs. Max Temperature (01/28/20)')\n",
    "\n",
    "#x axis label\n",
    "plt.xlabel('Latitude')\n",
    "\n",
    "#y axis label\n",
    "plt.ylabel('Max Temperature (F)')\n",
    "\n",
    "#set gid\n",
    "plt.grid(linestyle = '-', linewidth = 1, alpha = 0.5)\n",
    "\n",
    "#export as png\n",
    "plt.savefig('output_data/city__latitude_vs_max_temperature.png')"
   ]
  },
  {
   "cell_type": "markdown",
   "metadata": {},
   "source": [
    "## Latitude vs. Humidity Plot"
   ]
  },
  {
   "cell_type": "code",
   "execution_count": 22,
   "metadata": {},
   "outputs": [
    {
     "data": {
      "image/png": "[encoded data removed]",
      "text/plain": [
       "<Figure size 432x288 with 1 Axes>"
      ]
     },
     "metadata": {
      "needs_background": "light"
     },
     "output_type": "display_data"
    }
   ],
   "source": [
    "#create scater plot\n",
    "plt.scatter(weather_df['Lat'], weather_df['Humidity'], facecolor = 'blue', edgecolor = 'black')\n",
    "\n",
    "#title\n",
    "plt.title('City Latitude vs. Humidity (01/28/20)')\n",
    "\n",
    "#x axis label\n",
    "plt.xlabel('Latitude')\n",
    "\n",
    "#y axis label\n",
    "plt.ylabel('Humidity (%)')\n",
    "\n",
    "#set gid\n",
    "plt.grid(linestyle = '-', linewidth = 1, alpha = 0.5)\n",
    "\n",
    "#export as png\n",
    "plt.savefig('output_data/city_latitude_vs_humidity.png')"
   ]
  },
  {
   "cell_type": "markdown",
   "metadata": {},
   "source": [
    "## Latitude vs. Cloudiness Plot"
   ]
  },
  {
   "cell_type": "code",
   "execution_count": 23,
   "metadata": {},
   "outputs": [
    {
     "data": {
      "image/png": "[encoded data removed]",
      "text/plain": [
       "<Figure size 432x288 with 1 Axes>"
      ]
     },
     "metadata": {
      "needs_background": "light"
     },
     "output_type": "display_data"
    }
   ],
   "source": [
    "#create scater plot\n",
    "plt.scatter(weather_df['Lat'], weather_df['Cloudiness'], facecolor = 'gray', edgecolor = 'black')\n",
    "\n",
    "#title\n",
    "plt.title('City Latitude vs. Cloudiness (01/28/20)')\n",
    "\n",
    "#x axis label\n",
    "plt.xlabel('Latitude')\n",
    "\n",
    "#y axis label\n",
    "plt.ylabel('Cloudiness (%)')\n",
    "\n",
    "#set gid\n",
    "plt.grid(linestyle = '-', linewidth = 1, alpha = 0.5)\n",
    "\n",
    "#export as png\n",
    "plt.savefig('output_data/city_latitude_vs_Cloudiness.png')"
   ]
  },
  {
   "cell_type": "markdown",
   "metadata": {},
   "source": [
    "## Latitude vs. Wind Speed Plot"
   ]
  },
  {
   "cell_type": "code",
   "execution_count": 24,
   "metadata": {},
   "outputs": [
    {
     "data": {
      "image/png": "[encoded data removed]",
      "text/plain": [
       "<Figure size 432x288 with 1 Axes>"
      ]
     },
     "metadata": {
      "needs_background": "light"
     },
     "output_type": "display_data"
    }
   ],
   "source": [
    "#create scater plot\n",
    "plt.scatter(weather_df['Lat'], weather_df['Wind Speed'], facecolor = 'yellow', edgecolor = 'black')\n",
    "\n",
    "#title\n",
    "plt.title('City Latitude vs. Wind Speed (01/28/20)')\n",
    "\n",
    "#x axis label\n",
    "plt.xlabel('Latitude')\n",
    "\n",
    "#y axis label\n",
    "plt.ylabel('Wind Speed (%)')\n",
    "\n",
    "#set gid\n",
    "plt.grid(linestyle = '-', linewidth = 1, alpha = 0.5)\n",
    "\n",
    "#export as png\n",
    "plt.savefig('output_data/city_latitude_vs_Wind Speed.png')"
   ]
  },
  {
   "cell_type": "markdown",
   "metadata": {},
   "source": [
    "## Linear Regression"
   ]
  },
  {
   "cell_type": "code",
   "execution_count": 24,
   "metadata": {},
   "outputs": [],
   "source": []
  },
  {
   "cell_type": "markdown",
   "metadata": {},
   "source": [
    "####  Northern Hemisphere - Max Temp vs. Latitude Linear Regression"
   ]
  },
  {
   "cell_type": "code",
   "execution_count": 25,
   "metadata": {},
   "outputs": [
    {
     "name": "stdout",
     "output_type": "stream",
     "text": [
      "The r-value is: 0.46937863826630627\n"
     ]
    },
    {
     "data": {
      "image/png": "[encoded data removed]",
      "text/plain": [
       "<Figure size 432x288 with 1 Axes>"
      ]
     },
     "metadata": {
      "needs_background": "light"
     },
     "output_type": "display_data"
    }
   ],
   "source": []
  },
  {
   "cell_type": "markdown",
   "metadata": {},
   "source": [
    "####  Southern Hemisphere - Max Temp vs. Latitude Linear Regression"
   ]
  },
  {
   "cell_type": "code",
   "execution_count": 26,
   "metadata": {},
   "outputs": [
    {
     "name": "stdout",
     "output_type": "stream",
     "text": [
      "The r-value is: 0.6082708688906918\n"
     ]
    },
    {
     "data": {
      "image/png": "[encoded data removed]",
      "text/plain": [
       "<Figure size 432x288 with 1 Axes>"
      ]
     },
     "metadata": {
      "needs_background": "light"
     },
     "output_type": "display_data"
    }
   ],
   "source": []
  },
  {
   "cell_type": "markdown",
   "metadata": {},
   "source": [
    "####  Northern Hemisphere - Humidity (%) vs. Latitude Linear Regression"
   ]
  },
  {
   "cell_type": "code",
   "execution_count": 27,
   "metadata": {},
   "outputs": [
    {
     "name": "stdout",
     "output_type": "stream",
     "text": [
      "The r-value is: 0.000543987878808455\n"
     ]
    },
    {
     "data": {
      "image/png": "[encoded data removed]",
      "text/plain": [
       "<Figure size 432x288 with 1 Axes>"
      ]
     },
     "metadata": {
      "needs_background": "light"
     },
     "output_type": "display_data"
    }
   ],
   "source": []
  },
  {
   "cell_type": "markdown",
   "metadata": {},
   "source": [
    "####  Southern Hemisphere - Humidity (%) vs. Latitude Linear Regression"
   ]
  },
  {
   "cell_type": "code",
   "execution_count": 28,
   "metadata": {},
   "outputs": [
    {
     "name": "stdout",
     "output_type": "stream",
     "text": [
      "The r-value is: 0.014985174297345524\n"
     ]
    },
    {
     "data": {
      "image/png": "[encoded data removed]",
      "text/plain": [
       "<Figure size 432x288 with 1 Axes>"
      ]
     },
     "metadata": {
      "needs_background": "light"
     },
     "output_type": "display_data"
    }
   ],
   "source": []
  },
  {
   "cell_type": "markdown",
   "metadata": {},
   "source": [
    "####  Northern Hemisphere - Cloudiness (%) vs. Latitude Linear Regression"
   ]
  },
  {
   "cell_type": "code",
   "execution_count": 29,
   "metadata": {},
   "outputs": [
    {
     "name": "stdout",
     "output_type": "stream",
     "text": [
      "The r-value is: 0.0020898727664228514\n"
     ]
    },
    {
     "data": {
      "image/png": "[encoded data removed]",
      "text/plain": [
       "<Figure size 432x288 with 1 Axes>"
      ]
     },
     "metadata": {
      "needs_background": "light"
     },
     "output_type": "display_data"
    }
   ],
   "source": []
  },
  {
   "cell_type": "markdown",
   "metadata": {},
   "source": [
    "####  Southern Hemisphere - Cloudiness (%) vs. Latitude Linear Regression"
   ]
  },
  {
   "cell_type": "code",
   "execution_count": 30,
   "metadata": {},
   "outputs": [
    {
     "name": "stdout",
     "output_type": "stream",
     "text": [
      "The r-value is: 0.0035263772085582894\n"
     ]
    },
    {
     "data": {
      "image/png": "[encoded data removed]",
      "text/plain": [
       "<Figure size 432x288 with 1 Axes>"
      ]
     },
     "metadata": {
      "needs_background": "light"
     },
     "output_type": "display_data"
    }
   ],
   "source": []
  },
  {
   "cell_type": "markdown",
   "metadata": {},
   "source": [
    "####  Northern Hemisphere - Wind Speed (mph) vs. Latitude Linear Regression"
   ]
  },
  {
   "cell_type": "code",
   "execution_count": 31,
   "metadata": {},
   "outputs": [
    {
     "name": "stdout",
     "output_type": "stream",
     "text": [
      "The r-value is: 0.04019723576144484\n"
     ]
    },
    {
     "data": {
      "image/png": "[encoded data removed]",
      "text/plain": [
       "<Figure size 432x288 with 1 Axes>"
      ]
     },
     "metadata": {
      "needs_background": "light"
     },
     "output_type": "display_data"
    }
   ],
   "source": []
  },
  {
   "cell_type": "markdown",
   "metadata": {},
   "source": [
    "####  Southern Hemisphere - Wind Speed (mph) vs. Latitude Linear Regression"
   ]
  },
  {
   "cell_type": "code",
   "execution_count": 32,
   "metadata": {},
   "outputs": [
    {
     "name": "stdout",
     "output_type": "stream",
     "text": [
      "The r-value is: 0.017128274759839232\n"
     ]
    },
    {
     "data": {
      "image/png": "[encoded data removed]",
      "text/plain": [
       "<Figure size 432x288 with 1 Axes>"
      ]
     },
     "metadata": {
      "needs_background": "light"
     },
     "output_type": "display_data"
    }
   ],
   "source": []
  },
  {
   "cell_type": "code",
   "execution_count": null,
   "metadata": {},
   "outputs": [],
   "source": []
  }
 ],
 "metadata": {
  "anaconda-cloud": {},
  "kernel_info": {
   "name": "python3"
  },
  "kernelspec": {
   "display_name": "Python 3",
   "language": "python",
   "name": "python3"
  },
  "language_info": {
   "codemirror_mode": {
    "name": "ipython",
    "version": 3
   },
   "file_extension": ".py",
   "mimetype": "text/x-python",
   "name": "python",
   "nbconvert_exporter": "python",
   "pygments_lexer": "ipython3",
   "version": "3.9.0"
  },
  "latex_envs": {
   "LaTeX_envs_menu_present": true,
   "autoclose": false,
   "autocomplete": true,
   "bibliofile": "biblio.bib",
   "cite_by": "apalike",
   "current_citInitial": 1,
   "eqLabelWithNumbers": true,
   "eqNumInitial": 1,
   "hotkeys": {
    "equation": "Ctrl-E",
    "itemize": "Ctrl-I"
   },
   "labels_anchors": false,
   "latex_user_defs": false,
   "report_style_numbering": false,
   "user_envs_cfg": false
  },
  "nteract": {
   "version": "0.12.3"
  }
 },
 "nbformat": 4,
 "nbformat_minor": 2
}
